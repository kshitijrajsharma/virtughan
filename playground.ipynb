{
 "cells": [
  {
   "cell_type": "code",
   "execution_count": 1,
   "metadata": {},
   "outputs": [],
   "source": [
    "import requests "
   ]
  },
  {
   "cell_type": "code",
   "execution_count": null,
   "metadata": {},
   "outputs": [],
   "source": [
    "search_params = {\n",
    "            \"collections\": [\"sentinel-2-l2a\"],\n",
    "            \"datetime\": f\"2024-12-06T00:00:00Z/2025-01-06T23:59:59Z\",\n",
    "            \"query\": {\"eo:cloud_cover\": {\"lt\": 30}},\n",
    "            \"bbox\": [83.9627230167389,28.199165271853364,83.96748661994936,28.202105871401734],\n",
    "            \"limit\": 100,\n",
    "    }"
   ]
  }
 ],
 "metadata": {
  "kernelspec": {
   "display_name": "env",
   "language": "python",
   "name": "python3"
  },
  "language_info": {
   "codemirror_mode": {
    "name": "ipython",
    "version": 3
   },
   "file_extension": ".py",
   "mimetype": "text/x-python",
   "name": "python",
   "nbconvert_exporter": "python",
   "pygments_lexer": "ipython3",
   "version": "3.12.3"
  }
 },
 "nbformat": 4,
 "nbformat_minor": 2
}
